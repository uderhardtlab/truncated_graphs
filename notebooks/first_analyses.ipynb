{
 "cells": [
  {
   "cell_type": "code",
   "execution_count": 1,
   "id": "50c8dc53-646a-4718-b4ab-3876da9bc40d",
   "metadata": {},
   "outputs": [],
   "source": [
    "%load_ext autoreload\n",
    "%autoreload 2"
   ]
  },
  {
   "cell_type": "code",
   "execution_count": 2,
   "id": "54a4b447-91eb-43d2-ae2b-71a4874c881a",
   "metadata": {},
   "outputs": [],
   "source": [
    "import numpy as np\n",
    "import matplotlib.pyplot as plt\n",
    "from mpl_toolkits.mplot3d import Axes3D\n",
    "import squidpy as sq\n",
    "import anndata as ad\n",
    "import seaborn as sns\n",
    "import networkx as nx\n",
    "import pandas as pd\n",
    "\n",
    "import sys\n",
    "sys.path.append(\"../src/\")\n",
    "sys.path.append(\"/data/bionets/je30bery/truncated_graphs/src/\")\n",
    "from truncated_graphs import *"
   ]
  },
  {
   "cell_type": "markdown",
   "id": "3beca933-3621-4cd7-80e1-4a27e50f6391",
   "metadata": {},
   "source": [
    "- create random spatial data\n",
    "- connect nearest neighbors\n",
    "- compute centrality scores\n",
    "- for variable r, truncate graph by border r and compute centralities for everything inside, taking only nodes insight the new \"window\" into account\n",
    "- calculate error of new and old centralities\n",
    "- scatter"
   ]
  },
  {
   "cell_type": "code",
   "execution_count": 3,
   "id": "85351c79-b882-458b-9f2a-b85b6e777706",
   "metadata": {},
   "outputs": [],
   "source": [
    "#visualize_centrality(adata_original, centrality_original['degree'], title=\"Degree Centrality (Original)\")\n",
    "#visualize_centrality(adata_truncated, centrality_truncated['degree'], title=\"Degree Centrality (Truncated)\")"
   ]
  },
  {
   "cell_type": "code",
   "execution_count": 5,
   "id": "92d6d91a-0d3e-40f3-830f-3ec8f557be86",
   "metadata": {},
   "outputs": [],
   "source": [
    "measure = \"betweenness\"\n",
    "n = 1000\n",
    "coordinates = generate_coordinates(n=1000, bounds=(0, 20))\n",
    "adata_original = create_anndata(coordinates)\n",
    "centrality_original = compute_centrality_measures(adata_original)\n",
    "borders = [1, 2, 3, 4, 5, 6, 7, 8, 9]\n",
    "\n",
    "error_dfs = dict()\n",
    "adatas_truncated = dict()\n",
    "centralities_truncated = dict()\n",
    "\n",
    "for border in borders:\n",
    "    adatas_truncated[border] = filter_border_nodes(adata_original, border=border)\n",
    "    centralities_truncated[border] = compute_centrality_measures(adatas_truncated[border])\n",
    "    node_errors = compute_node_errors_and_distances(centrality_original, centralities_truncated[border], \n",
    "                                                    adata_original, adatas_truncated[border], \n",
    "                                                    measure=measure)\n",
    "    node_errors_df = pd.DataFrame(node_errors, columns=['Node Index', 'Error', 'Distance to Closest Border'])\n",
    "    error_dfs[border] = node_errors_df"
   ]
  },
  {
   "cell_type": "code",
   "execution_count": null,
   "id": "5e862ce2-5789-45d8-a59a-2b396aee7803",
   "metadata": {
    "scrolled": true
   },
   "outputs": [],
   "source": [
    "concated_erros = pd.concat(error_dfs)"
   ]
  },
  {
   "cell_type": "code",
   "execution_count": null,
   "id": "cfeb8838-2632-45f9-824c-b07721beba9f",
   "metadata": {},
   "outputs": [],
   "source": [
    "scatter_data = prepare_3d_scatter_data(error_dfs)\n",
    "\n",
    "fig = plt.figure(figsize=(10, 7))\n",
    "ax = fig.add_subplot(111, projection='3d')\n",
    "\n",
    "pal = sns.color_palette(\"magma\", len(borders))[::-1]\n",
    "for i, border in enumerate(error_dfs.keys()):\n",
    "    ax.scatter(error_dfs[border]['Distance to Closest Border'], [border] * len(error_dfs[border]), error_dfs[border]['Error'], \n",
    "           color=pal[i], marker='o')\n",
    "\n",
    "ax.set_xlabel('Distance to Closest Border')\n",
    "ax.set_ylabel('Border Width')\n",
    "ax.set_zlabel('Error')\n",
    "ax.set_title('3D Scatter Plot of Errors vs Distance to Border and Border Width')\n",
    "plt.tight_layout()\n",
    "plt.savefig(f\"result_plots/{measure}.png\", bbox_inches=\"tight\")"
   ]
  },
  {
   "cell_type": "code",
   "execution_count": null,
   "id": "19bc976f-3678-4c48-8a22-56105912eb9a",
   "metadata": {},
   "outputs": [],
   "source": [
    "plot_graphs_with_errors(adata_original, centrality_original, adatas_truncated, centralities_truncated, error_dfs)"
   ]
  },
  {
   "cell_type": "code",
   "execution_count": null,
   "id": "85e616ba-e530-42dc-a5f8-f5dcce46b819",
   "metadata": {},
   "outputs": [],
   "source": [
    "node_errors_df"
   ]
  },
  {
   "cell_type": "code",
   "execution_count": null,
   "id": "25cfb691-a9c7-466a-bdaa-5b70cc2f1310",
   "metadata": {},
   "outputs": [],
   "source": [
    "def plot_graphs_with_errors(adata_original, centrality_original, adatas_truncated, centralities_truncated, error_dfs, measure=measure, border=5, bounds=(0, 20)):\n",
    "    \"\"\"\n",
    "    Plot original and truncated graphs with node sizes based on centrality and colors based on errors.\n",
    "    :param adata_original: AnnData object of the original graph\n",
    "    :param centrality_original: Centrality measures from the original graph\n",
    "    :param adata_truncated: AnnData object of the truncated graph\n",
    "    :param centrality_truncated: Centrality measures from the truncated graph\n",
    "    :param concated_erros: DataFrame containing node errors\n",
    "    :param bounds: Tuple specifying the (min, max) bounds for the coordinates\n",
    "    \"\"\"\n",
    "    # Extract original and truncated coordinates\n",
    "    original_coords = adata_original.obsm['spatial']\n",
    "    truncated_coords = adatas_truncated[border].obsm['spatial']\n",
    "    \n",
    "    # Prepare the sizes and colors for the nodes\n",
    "    original_sizes = np.array(list(centrality_original[measure].values())) * 10  # Scale sizes for visibility\n",
    "    truncated_sizes = np.array(list(centralities_truncated[border][measure].values())) * 10  # Scale sizes\n",
    "\n",
    "    # Get errors for truncated graph\n",
    "    errors = error_dfs[border]['Error'].values\n",
    "    error_colors = np.clip(errors, 0, np.max(errors))  # Clip errors to avoid color issues\n",
    "\n",
    "    # Create a scatter plot for original graph\n",
    "    plt.figure(figsize=(10, 8))\n",
    "    \n",
    "    # Plot original nodes and edges\n",
    "    print(original_coords.shape, len(original_sizes))\n",
    "    plt.scatter(original_coords[:, 0], original_coords[:, 1], s=original_sizes, c='grey', alpha=0.6, label='Original Graph', edgecolors='k')\n",
    "    # Plot truncated nodes\n",
    "    print(truncated_coords.shape, len(truncated_coords))\n",
    "    plt.scatter(truncated_coords[:, 0], truncated_coords[:, 1], s=truncated_sizes, c=error_colors, cmap='viridis', alpha=0.8, label='Truncated Graph', edgecolors='k')\n",
    "\n",
    "    # Add color bar for errors\n",
    "    scatter = plt.scatter([], [], c=[], cmap='viridis', alpha=0.8)\n",
    "    cbar = plt.colorbar(scatter)\n",
    "    cbar.set_label('Error')\n",
    "    \n",
    "    # Draw rectangles for borders\n",
    "    plt.gca().add_patch(plt.Rectangle((0, 0), bounds[1], bounds[1], linewidth=2, edgecolor='red', facecolor='none', label='Borders'))\n",
    "\n",
    "    # Set axis limits and labels\n",
    "    plt.xlim(-5, bounds[1] + 5)\n",
    "    plt.ylim(-5, bounds[1] + 5)\n",
    "    plt.xlabel('X Coordinate')\n",
    "    plt.ylabel('Y Coordinate')\n",
    "    plt.title('Original and Truncated Graphs with Centrality and Error')\n",
    "    plt.legend()\n",
    "    plt.grid(True)\n",
    "    \n",
    "    plt.show()"
   ]
  },
  {
   "cell_type": "code",
   "execution_count": null,
   "id": "d4daed0f-d569-47dc-ac29-ed06be90b81f",
   "metadata": {},
   "outputs": [],
   "source": [
    "node_errors_df"
   ]
  },
  {
   "cell_type": "code",
   "execution_count": null,
   "id": "dc60d6ab-2149-4308-9697-890a051f029a",
   "metadata": {},
   "outputs": [],
   "source": []
  }
 ],
 "metadata": {
  "kernelspec": {
   "display_name": "Python 3 (ipykernel)",
   "language": "python",
   "name": "python3"
  },
  "language_info": {
   "codemirror_mode": {
    "name": "ipython",
    "version": 3
   },
   "file_extension": ".py",
   "mimetype": "text/x-python",
   "name": "python",
   "nbconvert_exporter": "python",
   "pygments_lexer": "ipython3",
   "version": "3.9.18"
  }
 },
 "nbformat": 4,
 "nbformat_minor": 5
}
