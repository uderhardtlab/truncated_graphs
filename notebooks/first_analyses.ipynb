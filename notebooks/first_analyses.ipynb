{
 "cells": [
  {
   "cell_type": "code",
   "execution_count": 1,
   "id": "50c8dc53-646a-4718-b4ab-3876da9bc40d",
   "metadata": {},
   "outputs": [],
   "source": [
    "%load_ext autoreload\n",
    "%autoreload 2"
   ]
  },
  {
   "cell_type": "code",
   "execution_count": 2,
   "id": "54a4b447-91eb-43d2-ae2b-71a4874c881a",
   "metadata": {},
   "outputs": [],
   "source": [
    "import numpy as np\n",
    "import matplotlib.pyplot as plt\n",
    "from mpl_toolkits.mplot3d import Axes3D\n",
    "import squidpy as sq\n",
    "import anndata as ad\n",
    "import seaborn as sns\n",
    "import networkx as nx\n",
    "import pandas as pd\n",
    "import json \n",
    "import sys\n",
    "sys.path.append(\"../src/\")\n",
    "sys.path.append(\"/data/bionets/je30bery/truncated_graphs/src/\")\n",
    "from truncated_graphs import *"
   ]
  },
  {
   "cell_type": "markdown",
   "id": "3beca933-3621-4cd7-80e1-4a27e50f6391",
   "metadata": {},
   "source": [
    "- create random spatial data\n",
    "- connect nearest neighbors\n",
    "- compute centrality scores\n",
    "- for variable r, truncate graph by border r and compute centralities for everything inside, taking only nodes insight the new \"window\" into account\n",
    "- calculate error of new and old centralities\n",
    "- scatter"
   ]
  },
  {
   "cell_type": "code",
   "execution_count": 3,
   "id": "0b2ebdc3-5c91-4792-b521-64355899bded",
   "metadata": {},
   "outputs": [],
   "source": [
    "with open(\"../configs-ramses.json\", \"r\") as f:\n",
    "    configs = json.load(f)"
   ]
  },
  {
   "cell_type": "code",
   "execution_count": 4,
   "id": "f8fdc542-9a82-4af1-88ab-783c302434d0",
   "metadata": {
    "scrolled": true
   },
   "outputs": [
    {
     "data": {
      "text/plain": [
       "'\\nn = 20**2\\nbounds = (0, 20)\\n\\ntype = \"regular\"\\ncoordinates = generate_coordinates(n=n, bounds=bounds, type=type)\\nreg_original = create_anndata(coordinates, n_neighs=4, bounds=bounds)\\nreg_original, reg_truncated = fully_process(adata_original=reg_original, bounds=bounds, borders=borders)\\n\\ntype = \"hexagonal\"\\ncoordinates = generate_coordinates(n=n, bounds=bounds, type=type)\\nhex_original = create_anndata(coordinates, n_neighs=6, bounds=bounds)\\nhex_original, hex_truncated = fully_process(adata_original=hex_original, bounds=bounds, borders=borders)\\n\\ntype = \"normal\"\\ncoordinates = generate_coordinates(n=n, bounds=bounds, type=type)\\nnormal_original = create_anndata(coordinates, n_neighs=6, bounds=bounds)\\nnormal_original, normal_truncated = fully_process(adata_original=normal_original, bounds=bounds, borders=borders)\\n'"
      ]
     },
     "execution_count": 4,
     "metadata": {},
     "output_type": "execute_result"
    }
   ],
   "source": [
    "borders = [5, 10]\n",
    "\n",
    "type = \"mibitof\"\n",
    "real_data, bounds = get_mibitof(configs['real_data'])\n",
    "\n",
    "\"\"\"\n",
    "n = 20**2\n",
    "bounds = (0, 20)\n",
    "\n",
    "type = \"regular\"\n",
    "coordinates = generate_coordinates(n=n, bounds=bounds, type=type)\n",
    "reg_original = create_anndata(coordinates, n_neighs=4, bounds=bounds)\n",
    "reg_original, reg_truncated = fully_process(adata_original=reg_original, bounds=bounds, borders=borders)\n",
    "\n",
    "type = \"hexagonal\"\n",
    "coordinates = generate_coordinates(n=n, bounds=bounds, type=type)\n",
    "hex_original = create_anndata(coordinates, n_neighs=6, bounds=bounds)\n",
    "hex_original, hex_truncated = fully_process(adata_original=hex_original, bounds=bounds, borders=borders)\n",
    "\n",
    "type = \"normal\"\n",
    "coordinates = generate_coordinates(n=n, bounds=bounds, type=type)\n",
    "normal_original = create_anndata(coordinates, n_neighs=6, bounds=bounds)\n",
    "normal_original, normal_truncated = fully_process(adata_original=normal_original, bounds=bounds, borders=borders)\n",
    "\"\"\""
   ]
  },
  {
   "cell_type": "code",
   "execution_count": 5,
   "id": "19564f00-8d01-448a-abd9-4c81a164e930",
   "metadata": {},
   "outputs": [],
   "source": [
    "mibitof_original, mibitof_truncated = fully_process(adata_original=real_data, bounds=bounds, borders=borders)"
   ]
  },
  {
   "cell_type": "code",
   "execution_count": 6,
   "id": "89d592f3-c4d7-43fa-8550-71392a41ae4a",
   "metadata": {},
   "outputs": [],
   "source": [
    "pearson = list()\n",
    "kendall = list()\n",
    "cosine = list()\n",
    "measures = [\"degree\", \"closeness\", \"betweenness\", \"harmonic\"]\n",
    "statistics = [\"pearson correlation\", \"kendall's tau\", \"cosine distance\"]\n",
    "results = dict()\n",
    "\n",
    "for i, adatas_truncated in enumerate([mibitof_truncated]): # reg_truncated, hex_truncated, normal_truncated\n",
    "    results[i] = dict()\n",
    "    for measure in measures:\n",
    "        results[i][measure] = pd.DataFrame(index=borders)\n",
    "        for statistic in statistics:\n",
    "            vals = list()\n",
    "            for border in borders:\n",
    "                vals.append(adatas_truncated[border].uns[f\"{measure} {statistic}\"])\n",
    "            results[i][measure][statistic.capitalize()] = vals    "
   ]
  },
  {
   "cell_type": "code",
   "execution_count": 7,
   "id": "915d4e09-88bf-4ee1-b76d-c2676b9e640a",
   "metadata": {},
   "outputs": [],
   "source": [
    "for i in results.keys():\n",
    "    conc = pd.concat(results[i])\n",
    "    conc.reset_index(inplace=True)\n",
    "    conc.rename({\"level_0\": \"Centrality measure\", \"level_1\": \"Border width\"}, inplace=True, axis=1)\n",
    "    results[i] = conc\n",
    "conc = pd.concat(results)\n",
    "conc.reset_index(inplace=True)"
   ]
  },
  {
   "cell_type": "code",
   "execution_count": 8,
   "id": "1cce1768-88a3-4e53-a1a9-175166be57f3",
   "metadata": {},
   "outputs": [
    {
     "name": "stderr",
     "output_type": "stream",
     "text": [
      "/tmp/ipykernel_4060102/2753380138.py:2: FutureWarning: A value is trying to be set on a copy of a DataFrame or Series through chained assignment using an inplace method.\n",
      "The behavior will change in pandas 3.0. This inplace method will never work because the intermediate object on which we are setting values always behaves as a copy.\n",
      "\n",
      "For example, when doing 'df[col].method(value, inplace=True)', try using 'df.method({col: value}, inplace=True)' or df[col] = df[col].method(value) instead, to perform the operation inplace on the original object.\n",
      "\n",
      "\n",
      "  conc[\"Type\"].replace({0: \"Regular\", 1: \"Hexagonal\", 2: \"Normal\"}, inplace=True)\n"
     ]
    },
    {
     "data": {
      "text/html": [
       "<div>\n",
       "<style scoped>\n",
       "    .dataframe tbody tr th:only-of-type {\n",
       "        vertical-align: middle;\n",
       "    }\n",
       "\n",
       "    .dataframe tbody tr th {\n",
       "        vertical-align: top;\n",
       "    }\n",
       "\n",
       "    .dataframe thead th {\n",
       "        text-align: right;\n",
       "    }\n",
       "</style>\n",
       "<table border=\"1\" class=\"dataframe\">\n",
       "  <thead>\n",
       "    <tr style=\"text-align: right;\">\n",
       "      <th></th>\n",
       "      <th>Type</th>\n",
       "      <th>Centrality measure</th>\n",
       "      <th>Border width</th>\n",
       "      <th>Pearson correlation</th>\n",
       "      <th>Kendall's tau</th>\n",
       "      <th>Cosine distance</th>\n",
       "    </tr>\n",
       "  </thead>\n",
       "  <tbody>\n",
       "    <tr>\n",
       "      <th>0</th>\n",
       "      <td>Regular</td>\n",
       "      <td>degree</td>\n",
       "      <td>5</td>\n",
       "      <td>0.991334</td>\n",
       "      <td>0.930432</td>\n",
       "      <td>0.001121</td>\n",
       "    </tr>\n",
       "    <tr>\n",
       "      <th>1</th>\n",
       "      <td>Regular</td>\n",
       "      <td>degree</td>\n",
       "      <td>10</td>\n",
       "      <td>0.981240</td>\n",
       "      <td>0.885980</td>\n",
       "      <td>0.002476</td>\n",
       "    </tr>\n",
       "    <tr>\n",
       "      <th>2</th>\n",
       "      <td>Regular</td>\n",
       "      <td>closeness</td>\n",
       "      <td>5</td>\n",
       "      <td>0.991298</td>\n",
       "      <td>0.933102</td>\n",
       "      <td>0.000057</td>\n",
       "    </tr>\n",
       "    <tr>\n",
       "      <th>3</th>\n",
       "      <td>Regular</td>\n",
       "      <td>closeness</td>\n",
       "      <td>10</td>\n",
       "      <td>0.980683</td>\n",
       "      <td>0.887507</td>\n",
       "      <td>0.000129</td>\n",
       "    </tr>\n",
       "    <tr>\n",
       "      <th>4</th>\n",
       "      <td>Regular</td>\n",
       "      <td>betweenness</td>\n",
       "      <td>5</td>\n",
       "      <td>0.982804</td>\n",
       "      <td>0.937582</td>\n",
       "      <td>0.011148</td>\n",
       "    </tr>\n",
       "    <tr>\n",
       "      <th>5</th>\n",
       "      <td>Regular</td>\n",
       "      <td>betweenness</td>\n",
       "      <td>10</td>\n",
       "      <td>0.973791</td>\n",
       "      <td>0.901280</td>\n",
       "      <td>0.017054</td>\n",
       "    </tr>\n",
       "    <tr>\n",
       "      <th>6</th>\n",
       "      <td>Regular</td>\n",
       "      <td>harmonic</td>\n",
       "      <td>5</td>\n",
       "      <td>0.989140</td>\n",
       "      <td>0.917252</td>\n",
       "      <td>0.000059</td>\n",
       "    </tr>\n",
       "    <tr>\n",
       "      <th>7</th>\n",
       "      <td>Regular</td>\n",
       "      <td>harmonic</td>\n",
       "      <td>10</td>\n",
       "      <td>0.972843</td>\n",
       "      <td>0.858648</td>\n",
       "      <td>0.000152</td>\n",
       "    </tr>\n",
       "  </tbody>\n",
       "</table>\n",
       "</div>"
      ],
      "text/plain": [
       "      Type Centrality measure  Border width  Pearson correlation  \\\n",
       "0  Regular             degree             5             0.991334   \n",
       "1  Regular             degree            10             0.981240   \n",
       "2  Regular          closeness             5             0.991298   \n",
       "3  Regular          closeness            10             0.980683   \n",
       "4  Regular        betweenness             5             0.982804   \n",
       "5  Regular        betweenness            10             0.973791   \n",
       "6  Regular           harmonic             5             0.989140   \n",
       "7  Regular           harmonic            10             0.972843   \n",
       "\n",
       "   Kendall's tau  Cosine distance  \n",
       "0       0.930432         0.001121  \n",
       "1       0.885980         0.002476  \n",
       "2       0.933102         0.000057  \n",
       "3       0.887507         0.000129  \n",
       "4       0.937582         0.011148  \n",
       "5       0.901280         0.017054  \n",
       "6       0.917252         0.000059  \n",
       "7       0.858648         0.000152  "
      ]
     },
     "execution_count": 8,
     "metadata": {},
     "output_type": "execute_result"
    }
   ],
   "source": [
    "conc.rename({\"level_0\": \"Type\"}, inplace=True, axis=1)\n",
    "conc[\"Type\"].replace({0: \"Regular\", 1: \"Hexagonal\", 2: \"Normal\"}, inplace=True)\n",
    "conc.drop([\"level_1\"], axis=1)"
   ]
  },
  {
   "cell_type": "code",
   "execution_count": 9,
   "id": "f34e05e7-8428-4971-83c0-e73f5cc958a7",
   "metadata": {},
   "outputs": [],
   "source": [
    "melted = pd.melt(conc, id_vars=[\"Type\", \"Centrality measure\", \"Border width\", \"level_1\"], value_name=\"Value\", var_name=\"Statistic\")"
   ]
  },
  {
   "cell_type": "code",
   "execution_count": 10,
   "id": "1c13b46e-df0c-4e06-9062-79b28ffb4051",
   "metadata": {
    "scrolled": true
   },
   "outputs": [
    {
     "name": "stderr",
     "output_type": "stream",
     "text": [
      "/data/bionets/je30bery/conda/envs/ppi/lib/python3.9/site-packages/seaborn/_base.py:948: FutureWarning: When grouping with a length-1 list-like, you will need to pass a length-1 tuple to get_group in a future version of pandas. Pass `(name,)` instead of `name` to silence this warning.\n",
      "  data_subset = grouped_data.get_group(pd_key)\n",
      "/data/bionets/je30bery/conda/envs/ppi/lib/python3.9/site-packages/seaborn/_base.py:948: FutureWarning: When grouping with a length-1 list-like, you will need to pass a length-1 tuple to get_group in a future version of pandas. Pass `(name,)` instead of `name` to silence this warning.\n",
      "  data_subset = grouped_data.get_group(pd_key)\n",
      "/data/bionets/je30bery/conda/envs/ppi/lib/python3.9/site-packages/seaborn/_base.py:948: FutureWarning: When grouping with a length-1 list-like, you will need to pass a length-1 tuple to get_group in a future version of pandas. Pass `(name,)` instead of `name` to silence this warning.\n",
      "  data_subset = grouped_data.get_group(pd_key)\n",
      "/data/bionets/je30bery/conda/envs/ppi/lib/python3.9/site-packages/seaborn/_base.py:948: FutureWarning: When grouping with a length-1 list-like, you will need to pass a length-1 tuple to get_group in a future version of pandas. Pass `(name,)` instead of `name` to silence this warning.\n",
      "  data_subset = grouped_data.get_group(pd_key)\n",
      "/data/bionets/je30bery/conda/envs/ppi/lib/python3.9/site-packages/seaborn/_base.py:948: FutureWarning: When grouping with a length-1 list-like, you will need to pass a length-1 tuple to get_group in a future version of pandas. Pass `(name,)` instead of `name` to silence this warning.\n",
      "  data_subset = grouped_data.get_group(pd_key)\n",
      "/data/bionets/je30bery/conda/envs/ppi/lib/python3.9/site-packages/seaborn/_base.py:948: FutureWarning: When grouping with a length-1 list-like, you will need to pass a length-1 tuple to get_group in a future version of pandas. Pass `(name,)` instead of `name` to silence this warning.\n",
      "  data_subset = grouped_data.get_group(pd_key)\n",
      "/data/bionets/je30bery/conda/envs/ppi/lib/python3.9/site-packages/seaborn/_base.py:948: FutureWarning: When grouping with a length-1 list-like, you will need to pass a length-1 tuple to get_group in a future version of pandas. Pass `(name,)` instead of `name` to silence this warning.\n",
      "  data_subset = grouped_data.get_group(pd_key)\n",
      "/data/bionets/je30bery/conda/envs/ppi/lib/python3.9/site-packages/seaborn/_base.py:948: FutureWarning: When grouping with a length-1 list-like, you will need to pass a length-1 tuple to get_group in a future version of pandas. Pass `(name,)` instead of `name` to silence this warning.\n",
      "  data_subset = grouped_data.get_group(pd_key)\n",
      "/data/bionets/je30bery/conda/envs/ppi/lib/python3.9/site-packages/seaborn/_base.py:948: FutureWarning: When grouping with a length-1 list-like, you will need to pass a length-1 tuple to get_group in a future version of pandas. Pass `(name,)` instead of `name` to silence this warning.\n",
      "  data_subset = grouped_data.get_group(pd_key)\n",
      "/data/bionets/je30bery/conda/envs/ppi/lib/python3.9/site-packages/seaborn/_base.py:948: FutureWarning: When grouping with a length-1 list-like, you will need to pass a length-1 tuple to get_group in a future version of pandas. Pass `(name,)` instead of `name` to silence this warning.\n",
      "  data_subset = grouped_data.get_group(pd_key)\n",
      "/data/bionets/je30bery/conda/envs/ppi/lib/python3.9/site-packages/seaborn/_base.py:948: FutureWarning: When grouping with a length-1 list-like, you will need to pass a length-1 tuple to get_group in a future version of pandas. Pass `(name,)` instead of `name` to silence this warning.\n",
      "  data_subset = grouped_data.get_group(pd_key)\n",
      "/data/bionets/je30bery/conda/envs/ppi/lib/python3.9/site-packages/seaborn/_base.py:948: FutureWarning: When grouping with a length-1 list-like, you will need to pass a length-1 tuple to get_group in a future version of pandas. Pass `(name,)` instead of `name` to silence this warning.\n",
      "  data_subset = grouped_data.get_group(pd_key)\n"
     ]
    },
    {
     "data": {
      "image/png": "[encoded data removed]",
      "text/plain": [
       "<Figure size 1644.36x500 with 3 Axes>"
      ]
     },
     "metadata": {},
     "output_type": "display_data"
    }
   ],
   "source": [
    "sns.relplot(melted, kind=\"line\", y=\"Value\", x=\"Border width\", hue=\"Centrality measure\", col=\"Statistic\", row=\"Type\")\n",
    "plt.savefig(\"../result_plots/correlation_coefficients.png\")"
   ]
  },
  {
   "cell_type": "code",
   "execution_count": 11,
   "id": "19bc976f-3678-4c48-8a22-56105912eb9a",
   "metadata": {
    "scrolled": true
   },
   "outputs": [
    {
     "ename": "NameError",
     "evalue": "name 'normal_original' is not defined",
     "output_type": "error",
     "traceback": [
      "\u001b[0;31m---------------------------------------------------------------------------\u001b[0m",
      "\u001b[0;31mNameError\u001b[0m                                 Traceback (most recent call last)",
      "Cell \u001b[0;32mIn[11], line 4\u001b[0m\n\u001b[1;32m      2\u001b[0m \u001b[38;5;28mtype\u001b[39m \u001b[38;5;241m=\u001b[39m \u001b[38;5;124m\"\u001b[39m\u001b[38;5;124mnormal\u001b[39m\u001b[38;5;124m\"\u001b[39m\n\u001b[1;32m      3\u001b[0m measure \u001b[38;5;241m=\u001b[39m \u001b[38;5;124m\"\u001b[39m\u001b[38;5;124mharmonic\u001b[39m\u001b[38;5;124m\"\u001b[39m\n\u001b[0;32m----> 4\u001b[0m plot_graphs_with_errors(\u001b[43mnormal_original\u001b[49m, normal_truncated[border], border\u001b[38;5;241m=\u001b[39mborder, measure\u001b[38;5;241m=\u001b[39mmeasure, bounds\u001b[38;5;241m=\u001b[39mbounds)\n\u001b[1;32m      5\u001b[0m plt\u001b[38;5;241m.\u001b[39msavefig(\u001b[38;5;124mf\u001b[39m\u001b[38;5;124m\"\u001b[39m\u001b[38;5;124m../result_plots/\u001b[39m\u001b[38;5;132;01m{\u001b[39;00m\u001b[38;5;28mtype\u001b[39m\u001b[38;5;132;01m}\u001b[39;00m\u001b[38;5;124m/\u001b[39m\u001b[38;5;132;01m{\u001b[39;00m\u001b[38;5;28mtype\u001b[39m\u001b[38;5;132;01m}\u001b[39;00m\u001b[38;5;124m_\u001b[39m\u001b[38;5;132;01m{\u001b[39;00mmeasure\u001b[38;5;132;01m}\u001b[39;00m\u001b[38;5;124m_border=\u001b[39m\u001b[38;5;132;01m{\u001b[39;00mborder\u001b[38;5;132;01m}\u001b[39;00m\u001b[38;5;124m_n=\u001b[39m\u001b[38;5;132;01m{\u001b[39;00mn\u001b[38;5;132;01m}\u001b[39;00m\u001b[38;5;124m.png\u001b[39m\u001b[38;5;124m\"\u001b[39m)\n",
      "\u001b[0;31mNameError\u001b[0m: name 'normal_original' is not defined"
     ]
    }
   ],
   "source": [
    "border = 1\n",
    "type = \"normal\"\n",
    "measure = \"harmonic\"\n",
    "plot_graphs_with_errors(normal_original, normal_truncated[border], border=border, measure=measure, bounds=bounds)\n",
    "plt.savefig(f\"../result_plots/{type}/{type}_{measure}_border={border}_n={n}.png\")"
   ]
  },
  {
   "cell_type": "code",
   "execution_count": null,
   "id": "cfeb8838-2632-45f9-824c-b07721beba9f",
   "metadata": {
    "scrolled": true
   },
   "outputs": [],
   "source": [
    "measure = \"closeness\"\n",
    "truncated = normal_truncated\n",
    "original = normal_original\n",
    "\n",
    "fig = plt.figure(figsize=(10, 7))\n",
    "ax = fig.add_subplot(111, projection='3d')\n",
    "pal = sns.color_palette(\"plasma\", len(original))\n",
    "\n",
    "for i, border in enumerate(truncated.keys()):\n",
    "    ax.scatter(truncated[border].obs[\"distance_to_border\"], [border] * len(truncated[border]), truncated[border].obs[f\"{measure} error\"], \n",
    "           color=np.array(pal)[truncated[border].obs_names.values.astype(int)], marker='o', alpha=0.5)\n",
    "\n",
    "ax.set_xlabel('Distance to Closest Border')\n",
    "ax.set_ylabel('Border Width')\n",
    "ax.set_zlabel('Error')\n",
    "ax.set_title(f'{measure.capitalize()} Measure Errors vs Distance to Border and Border Width')\n",
    "ax.set_box_aspect(None, zoom=0.85)\n",
    "plt.tight_layout()\n",
    "plt.savefig(f\"../result_plots/{type}/{measure}_by_border_on_{type}_grid_n={n}.png\", bbox_inches=\"tight\")"
   ]
  },
  {
   "cell_type": "code",
   "execution_count": null,
   "id": "1674435f-8682-4528-b82b-fd81879d8e4a",
   "metadata": {},
   "outputs": [],
   "source": []
  }
 ],
 "metadata": {
  "kernelspec": {
   "display_name": "Python 3 (ipykernel)",
   "language": "python",
   "name": "python3"
  },
  "language_info": {
   "codemirror_mode": {
    "name": "ipython",
    "version": 3
   },
   "file_extension": ".py",
   "mimetype": "text/x-python",
   "name": "python",
   "nbconvert_exporter": "python",
   "pygments_lexer": "ipython3",
   "version": "3.9.18"
  }
 },
 "nbformat": 4,
 "nbformat_minor": 5
}
