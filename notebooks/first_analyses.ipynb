{
 "cells": [
  {
   "cell_type": "code",
   "execution_count": 1,
   "id": "50c8dc53-646a-4718-b4ab-3876da9bc40d",
   "metadata": {},
   "outputs": [],
   "source": [
    "%load_ext autoreload\n",
    "%autoreload 2"
   ]
  },
  {
   "cell_type": "code",
   "execution_count": 2,
   "id": "54a4b447-91eb-43d2-ae2b-71a4874c881a",
   "metadata": {},
   "outputs": [],
   "source": [
    "import numpy as np\n",
    "import matplotlib.pyplot as plt\n",
    "from mpl_toolkits.mplot3d import Axes3D\n",
    "import squidpy as sq\n",
    "import anndata as ad\n",
    "import seaborn as sns\n",
    "import networkx as nx\n",
    "import pandas as pd\n",
    "import json \n",
    "import sys\n",
    "sys.path.append(\"../src/\")\n",
    "sys.path.append(\"/data/bionets/je30bery/truncated_graphs/src/\")\n",
    "from truncated_graphs import *"
   ]
  },
  {
   "cell_type": "markdown",
   "id": "3beca933-3621-4cd7-80e1-4a27e50f6391",
   "metadata": {},
   "source": [
    "- create random spatial data\n",
    "- connect nearest neighbors\n",
    "- compute centrality scores\n",
    "- for variable r, truncate graph by border r and compute centralities for everything inside, taking only nodes insight the new \"window\" into account\n",
    "- calculate error of new and old centralities\n",
    "- scatter"
   ]
  },
  {
   "cell_type": "code",
   "execution_count": 3,
   "id": "0b2ebdc3-5c91-4792-b521-64355899bded",
   "metadata": {},
   "outputs": [],
   "source": [
    "with open(\"../configs-ramses.json\", \"r\") as f:\n",
    "    configs = json.load(f)"
   ]
  },
  {
   "cell_type": "code",
   "execution_count": 7,
   "id": "f8fdc542-9a82-4af1-88ab-783c302434d0",
   "metadata": {
    "scrolled": true
   },
   "outputs": [
    {
     "data": {
      "text/plain": [
       "'\\nn = 20**2\\nbounds = (0, 20)\\n\\ntype = \"regular\"\\ncoordinates = generate_coordinates(n=n, bounds=bounds, type=type)\\nreg_original = create_anndata(coordinates, n_neighs=4, bounds=bounds)\\nreg_original, reg_truncated = fully_process(adata_original=reg_original, bounds=bounds, borders=borders)\\n\\ntype = \"hexagonal\"\\ncoordinates = generate_coordinates(n=n, bounds=bounds, type=type)\\nhex_original = create_anndata(coordinates, n_neighs=6, bounds=bounds)\\nhex_original, hex_truncated = fully_process(adata_original=hex_original, bounds=bounds, borders=borders)\\n\\ntype = \"normal\"\\ncoordinates = generate_coordinates(n=n, bounds=bounds, type=type)\\nnormal_original = create_anndata(coordinates, n_neighs=6, bounds=bounds)\\nnormal_original, normal_truncated = fully_process(adata_original=normal_original, bounds=bounds, borders=borders)\\n'"
      ]
     },
     "execution_count": 7,
     "metadata": {},
     "output_type": "execute_result"
    }
   ],
   "source": [
    "borders = [1, 2, 3, 4, 5, 6, 7, 8]\n",
    "\n",
    "type = \"mibitof\"\n",
    "real_data, bounds = get_mibitof(configs['real_data'])\n",
    "\n",
    "\"\"\"\n",
    "n = 20**2\n",
    "bounds = (0, 20)\n",
    "\n",
    "type = \"regular\"\n",
    "coordinates = generate_coordinates(n=n, bounds=bounds, type=type)\n",
    "reg_original = create_anndata(coordinates, n_neighs=4, bounds=bounds)\n",
    "reg_original, reg_truncated = fully_process(adata_original=reg_original, bounds=bounds, borders=borders)\n",
    "\n",
    "type = \"hexagonal\"\n",
    "coordinates = generate_coordinates(n=n, bounds=bounds, type=type)\n",
    "hex_original = create_anndata(coordinates, n_neighs=6, bounds=bounds)\n",
    "hex_original, hex_truncated = fully_process(adata_original=hex_original, bounds=bounds, borders=borders)\n",
    "\n",
    "type = \"normal\"\n",
    "coordinates = generate_coordinates(n=n, bounds=bounds, type=type)\n",
    "normal_original = create_anndata(coordinates, n_neighs=6, bounds=bounds)\n",
    "normal_original, normal_truncated = fully_process(adata_original=normal_original, bounds=bounds, borders=borders)\n",
    "\"\"\""
   ]
  },
  {
   "cell_type": "code",
   "execution_count": 9,
   "id": "19564f00-8d01-448a-abd9-4c81a164e930",
   "metadata": {},
   "outputs": [],
   "source": [
    "mibitof_original, mibitof_truncated = fully_process(adata_original=real_data, bounds=bounds, borders=[1])"
   ]
  },
  {
   "cell_type": "code",
   "execution_count": 12,
   "id": "89d592f3-c4d7-43fa-8550-71392a41ae4a",
   "metadata": {},
   "outputs": [
    {
     "ename": "ValueError",
     "evalue": "Length of values (1) does not match length of index (8)",
     "output_type": "error",
     "traceback": [
      "\u001b[0;31m---------------------------------------------------------------------------\u001b[0m",
      "\u001b[0;31mValueError\u001b[0m                                Traceback (most recent call last)",
      "Cell \u001b[0;32mIn[12], line 16\u001b[0m\n\u001b[1;32m     14\u001b[0m \u001b[38;5;28;01mfor\u001b[39;00m border \u001b[38;5;129;01min\u001b[39;00m [\u001b[38;5;241m1\u001b[39m]:\n\u001b[1;32m     15\u001b[0m     vals\u001b[38;5;241m.\u001b[39mappend(adatas_truncated[border]\u001b[38;5;241m.\u001b[39muns[\u001b[38;5;124mf\u001b[39m\u001b[38;5;124m\"\u001b[39m\u001b[38;5;132;01m{\u001b[39;00mmeasure\u001b[38;5;132;01m}\u001b[39;00m\u001b[38;5;124m \u001b[39m\u001b[38;5;132;01m{\u001b[39;00mstatistic\u001b[38;5;132;01m}\u001b[39;00m\u001b[38;5;124m\"\u001b[39m])\n\u001b[0;32m---> 16\u001b[0m \u001b[43mresults\u001b[49m\u001b[43m[\u001b[49m\u001b[43mi\u001b[49m\u001b[43m]\u001b[49m\u001b[43m[\u001b[49m\u001b[43mmeasure\u001b[49m\u001b[43m]\u001b[49m\u001b[43m[\u001b[49m\u001b[43mstatistic\u001b[49m\u001b[38;5;241;43m.\u001b[39;49m\u001b[43mcapitalize\u001b[49m\u001b[43m(\u001b[49m\u001b[43m)\u001b[49m\u001b[43m]\u001b[49m \u001b[38;5;241m=\u001b[39m vals    \n",
      "File \u001b[0;32m/data/bionets/je30bery/conda/envs/ppi/lib/python3.9/site-packages/pandas/core/frame.py:4311\u001b[0m, in \u001b[0;36mDataFrame.__setitem__\u001b[0;34m(self, key, value)\u001b[0m\n\u001b[1;32m   4308\u001b[0m     \u001b[38;5;28mself\u001b[39m\u001b[38;5;241m.\u001b[39m_setitem_array([key], value)\n\u001b[1;32m   4309\u001b[0m \u001b[38;5;28;01melse\u001b[39;00m:\n\u001b[1;32m   4310\u001b[0m     \u001b[38;5;66;03m# set column\u001b[39;00m\n\u001b[0;32m-> 4311\u001b[0m     \u001b[38;5;28;43mself\u001b[39;49m\u001b[38;5;241;43m.\u001b[39;49m\u001b[43m_set_item\u001b[49m\u001b[43m(\u001b[49m\u001b[43mkey\u001b[49m\u001b[43m,\u001b[49m\u001b[43m \u001b[49m\u001b[43mvalue\u001b[49m\u001b[43m)\u001b[49m\n",
      "File \u001b[0;32m/data/bionets/je30bery/conda/envs/ppi/lib/python3.9/site-packages/pandas/core/frame.py:4524\u001b[0m, in \u001b[0;36mDataFrame._set_item\u001b[0;34m(self, key, value)\u001b[0m\n\u001b[1;32m   4514\u001b[0m \u001b[38;5;28;01mdef\u001b[39;00m \u001b[38;5;21m_set_item\u001b[39m(\u001b[38;5;28mself\u001b[39m, key, value) \u001b[38;5;241m-\u001b[39m\u001b[38;5;241m>\u001b[39m \u001b[38;5;28;01mNone\u001b[39;00m:\n\u001b[1;32m   4515\u001b[0m \u001b[38;5;250m    \u001b[39m\u001b[38;5;124;03m\"\"\"\u001b[39;00m\n\u001b[1;32m   4516\u001b[0m \u001b[38;5;124;03m    Add series to DataFrame in specified column.\u001b[39;00m\n\u001b[1;32m   4517\u001b[0m \n\u001b[0;32m   (...)\u001b[0m\n\u001b[1;32m   4522\u001b[0m \u001b[38;5;124;03m    ensure homogeneity.\u001b[39;00m\n\u001b[1;32m   4523\u001b[0m \u001b[38;5;124;03m    \"\"\"\u001b[39;00m\n\u001b[0;32m-> 4524\u001b[0m     value, refs \u001b[38;5;241m=\u001b[39m \u001b[38;5;28;43mself\u001b[39;49m\u001b[38;5;241;43m.\u001b[39;49m\u001b[43m_sanitize_column\u001b[49m\u001b[43m(\u001b[49m\u001b[43mvalue\u001b[49m\u001b[43m)\u001b[49m\n\u001b[1;32m   4526\u001b[0m     \u001b[38;5;28;01mif\u001b[39;00m (\n\u001b[1;32m   4527\u001b[0m         key \u001b[38;5;129;01min\u001b[39;00m \u001b[38;5;28mself\u001b[39m\u001b[38;5;241m.\u001b[39mcolumns\n\u001b[1;32m   4528\u001b[0m         \u001b[38;5;129;01mand\u001b[39;00m value\u001b[38;5;241m.\u001b[39mndim \u001b[38;5;241m==\u001b[39m \u001b[38;5;241m1\u001b[39m\n\u001b[1;32m   4529\u001b[0m         \u001b[38;5;129;01mand\u001b[39;00m \u001b[38;5;129;01mnot\u001b[39;00m \u001b[38;5;28misinstance\u001b[39m(value\u001b[38;5;241m.\u001b[39mdtype, ExtensionDtype)\n\u001b[1;32m   4530\u001b[0m     ):\n\u001b[1;32m   4531\u001b[0m         \u001b[38;5;66;03m# broadcast across multiple columns if necessary\u001b[39;00m\n\u001b[1;32m   4532\u001b[0m         \u001b[38;5;28;01mif\u001b[39;00m \u001b[38;5;129;01mnot\u001b[39;00m \u001b[38;5;28mself\u001b[39m\u001b[38;5;241m.\u001b[39mcolumns\u001b[38;5;241m.\u001b[39mis_unique \u001b[38;5;129;01mor\u001b[39;00m \u001b[38;5;28misinstance\u001b[39m(\u001b[38;5;28mself\u001b[39m\u001b[38;5;241m.\u001b[39mcolumns, MultiIndex):\n",
      "File \u001b[0;32m/data/bionets/je30bery/conda/envs/ppi/lib/python3.9/site-packages/pandas/core/frame.py:5266\u001b[0m, in \u001b[0;36mDataFrame._sanitize_column\u001b[0;34m(self, value)\u001b[0m\n\u001b[1;32m   5263\u001b[0m     \u001b[38;5;28;01mreturn\u001b[39;00m _reindex_for_setitem(value, \u001b[38;5;28mself\u001b[39m\u001b[38;5;241m.\u001b[39mindex)\n\u001b[1;32m   5265\u001b[0m \u001b[38;5;28;01mif\u001b[39;00m is_list_like(value):\n\u001b[0;32m-> 5266\u001b[0m     \u001b[43mcom\u001b[49m\u001b[38;5;241;43m.\u001b[39;49m\u001b[43mrequire_length_match\u001b[49m\u001b[43m(\u001b[49m\u001b[43mvalue\u001b[49m\u001b[43m,\u001b[49m\u001b[43m \u001b[49m\u001b[38;5;28;43mself\u001b[39;49m\u001b[38;5;241;43m.\u001b[39;49m\u001b[43mindex\u001b[49m\u001b[43m)\u001b[49m\n\u001b[1;32m   5267\u001b[0m arr \u001b[38;5;241m=\u001b[39m sanitize_array(value, \u001b[38;5;28mself\u001b[39m\u001b[38;5;241m.\u001b[39mindex, copy\u001b[38;5;241m=\u001b[39m\u001b[38;5;28;01mTrue\u001b[39;00m, allow_2d\u001b[38;5;241m=\u001b[39m\u001b[38;5;28;01mTrue\u001b[39;00m)\n\u001b[1;32m   5268\u001b[0m \u001b[38;5;28;01mif\u001b[39;00m (\n\u001b[1;32m   5269\u001b[0m     \u001b[38;5;28misinstance\u001b[39m(value, Index)\n\u001b[1;32m   5270\u001b[0m     \u001b[38;5;129;01mand\u001b[39;00m value\u001b[38;5;241m.\u001b[39mdtype \u001b[38;5;241m==\u001b[39m \u001b[38;5;124m\"\u001b[39m\u001b[38;5;124mobject\u001b[39m\u001b[38;5;124m\"\u001b[39m\n\u001b[0;32m   (...)\u001b[0m\n\u001b[1;32m   5273\u001b[0m     \u001b[38;5;66;03m# TODO: Remove kludge in sanitize_array for string mode when enforcing\u001b[39;00m\n\u001b[1;32m   5274\u001b[0m     \u001b[38;5;66;03m# this deprecation\u001b[39;00m\n",
      "File \u001b[0;32m/data/bionets/je30bery/conda/envs/ppi/lib/python3.9/site-packages/pandas/core/common.py:573\u001b[0m, in \u001b[0;36mrequire_length_match\u001b[0;34m(data, index)\u001b[0m\n\u001b[1;32m    569\u001b[0m \u001b[38;5;250m\u001b[39m\u001b[38;5;124;03m\"\"\"\u001b[39;00m\n\u001b[1;32m    570\u001b[0m \u001b[38;5;124;03mCheck the length of data matches the length of the index.\u001b[39;00m\n\u001b[1;32m    571\u001b[0m \u001b[38;5;124;03m\"\"\"\u001b[39;00m\n\u001b[1;32m    572\u001b[0m \u001b[38;5;28;01mif\u001b[39;00m \u001b[38;5;28mlen\u001b[39m(data) \u001b[38;5;241m!=\u001b[39m \u001b[38;5;28mlen\u001b[39m(index):\n\u001b[0;32m--> 573\u001b[0m     \u001b[38;5;28;01mraise\u001b[39;00m \u001b[38;5;167;01mValueError\u001b[39;00m(\n\u001b[1;32m    574\u001b[0m         \u001b[38;5;124m\"\u001b[39m\u001b[38;5;124mLength of values \u001b[39m\u001b[38;5;124m\"\u001b[39m\n\u001b[1;32m    575\u001b[0m         \u001b[38;5;124mf\u001b[39m\u001b[38;5;124m\"\u001b[39m\u001b[38;5;124m(\u001b[39m\u001b[38;5;132;01m{\u001b[39;00m\u001b[38;5;28mlen\u001b[39m(data)\u001b[38;5;132;01m}\u001b[39;00m\u001b[38;5;124m) \u001b[39m\u001b[38;5;124m\"\u001b[39m\n\u001b[1;32m    576\u001b[0m         \u001b[38;5;124m\"\u001b[39m\u001b[38;5;124mdoes not match length of index \u001b[39m\u001b[38;5;124m\"\u001b[39m\n\u001b[1;32m    577\u001b[0m         \u001b[38;5;124mf\u001b[39m\u001b[38;5;124m\"\u001b[39m\u001b[38;5;124m(\u001b[39m\u001b[38;5;132;01m{\u001b[39;00m\u001b[38;5;28mlen\u001b[39m(index)\u001b[38;5;132;01m}\u001b[39;00m\u001b[38;5;124m)\u001b[39m\u001b[38;5;124m\"\u001b[39m\n\u001b[1;32m    578\u001b[0m     )\n",
      "\u001b[0;31mValueError\u001b[0m: Length of values (1) does not match length of index (8)"
     ]
    }
   ],
   "source": [
    "pearson = list()\n",
    "kendall = list()\n",
    "cosine = list()\n",
    "measures = [\"degree\", \"closeness\", \"betweenness\", \"harmonic\"]\n",
    "statistics = [\"pearson correlation\", \"kendall's tau\", \"cosine distance\"]\n",
    "results = dict()\n",
    "\n",
    "for i, adatas_truncated in enumerate([mibitof_truncated]): # reg_truncated, hex_truncated, normal_truncated\n",
    "    results[i] = dict()\n",
    "    for measure in measures:\n",
    "        results[i][measure] = pd.DataFrame(index=borders)\n",
    "        for statistic in statistics:\n",
    "            vals = list()\n",
    "            for border in borders:\n",
    "                vals.append(adatas_truncated[border].uns[f\"{measure} {statistic}\"])\n",
    "            results[i][measure][statistic.capitalize()] = vals    "
   ]
  },
  {
   "cell_type": "code",
   "execution_count": null,
   "id": "915d4e09-88bf-4ee1-b76d-c2676b9e640a",
   "metadata": {},
   "outputs": [],
   "source": [
    "for i in results.keys():\n",
    "    conc = pd.concat(results[i])\n",
    "    conc.reset_index(inplace=True)\n",
    "    conc.rename({\"level_0\": \"Centrality measure\", \"level_1\": \"Border width\"}, inplace=True, axis=1)\n",
    "    results[i] = conc\n",
    "conc = pd.concat(results)\n",
    "conc.reset_index(inplace=True)"
   ]
  },
  {
   "cell_type": "code",
   "execution_count": null,
   "id": "1cce1768-88a3-4e53-a1a9-175166be57f3",
   "metadata": {},
   "outputs": [],
   "source": [
    "conc.rename({\"level_0\": \"Type\"}, inplace=True, axis=1)\n",
    "conc[\"Type\"].replace({0: \"Regular\", 1: \"Hexagonal\", 2: \"Normal\"}, inplace=True)\n",
    "conc.drop([\"level_1\"], axis=1)"
   ]
  },
  {
   "cell_type": "code",
   "execution_count": null,
   "id": "f34e05e7-8428-4971-83c0-e73f5cc958a7",
   "metadata": {},
   "outputs": [],
   "source": [
    "melted = pd.melt(conc, id_vars=[\"Type\", \"Centrality measure\", \"Border width\", \"level_1\"], value_name=\"Value\", var_name=\"Statistic\")"
   ]
  },
  {
   "cell_type": "code",
   "execution_count": null,
   "id": "1c13b46e-df0c-4e06-9062-79b28ffb4051",
   "metadata": {
    "scrolled": true
   },
   "outputs": [],
   "source": [
    "sns.relplot(melted, kind=\"line\", y=\"Value\", x=\"Border width\", hue=\"Centrality measure\", col=\"Statistic\", row=\"Type\")\n",
    "plt.savefig(\"../result_plots/correlation_coefficients.png\")"
   ]
  },
  {
   "cell_type": "code",
   "execution_count": null,
   "id": "19bc976f-3678-4c48-8a22-56105912eb9a",
   "metadata": {
    "scrolled": true
   },
   "outputs": [],
   "source": [
    "border = 1\n",
    "type = \"normal\"\n",
    "measure = \"harmonic\"\n",
    "plot_graphs_with_errors(normal_original, normal_truncated[border], border=border, measure=measure, bounds=bounds)\n",
    "plt.savefig(f\"../result_plots/{type}/{type}_{measure}_border={border}_n={n}.png\")"
   ]
  },
  {
   "cell_type": "code",
   "execution_count": null,
   "id": "cfeb8838-2632-45f9-824c-b07721beba9f",
   "metadata": {
    "scrolled": true
   },
   "outputs": [],
   "source": [
    "measure = \"closeness\"\n",
    "truncated = normal_truncated\n",
    "original = normal_original\n",
    "\n",
    "fig = plt.figure(figsize=(10, 7))\n",
    "ax = fig.add_subplot(111, projection='3d')\n",
    "pal = sns.color_palette(\"plasma\", len(original))\n",
    "\n",
    "for i, border in enumerate(truncated.keys()):\n",
    "    ax.scatter(truncated[border].obs[\"distance_to_border\"], [border] * len(truncated[border]), truncated[border].obs[f\"{measure} error\"], \n",
    "           color=np.array(pal)[truncated[border].obs_names.values.astype(int)], marker='o', alpha=0.5)\n",
    "\n",
    "ax.set_xlabel('Distance to Closest Border')\n",
    "ax.set_ylabel('Border Width')\n",
    "ax.set_zlabel('Error')\n",
    "ax.set_title(f'{measure.capitalize()} Measure Errors vs Distance to Border and Border Width')\n",
    "ax.set_box_aspect(None, zoom=0.85)\n",
    "plt.tight_layout()\n",
    "plt.savefig(f\"../result_plots/{type}/{measure}_by_border_on_{type}_grid_n={n}.png\", bbox_inches=\"tight\")"
   ]
  },
  {
   "cell_type": "code",
   "execution_count": null,
   "id": "1674435f-8682-4528-b82b-fd81879d8e4a",
   "metadata": {},
   "outputs": [],
   "source": []
  }
 ],
 "metadata": {
  "kernelspec": {
   "display_name": "Python 3 (ipykernel)",
   "language": "python",
   "name": "python3"
  },
  "language_info": {
   "codemirror_mode": {
    "name": "ipython",
    "version": 3
   },
   "file_extension": ".py",
   "mimetype": "text/x-python",
   "name": "python",
   "nbconvert_exporter": "python",
   "pygments_lexer": "ipython3",
   "version": "3.9.18"
  }
 },
 "nbformat": 4,
 "nbformat_minor": 5
}
