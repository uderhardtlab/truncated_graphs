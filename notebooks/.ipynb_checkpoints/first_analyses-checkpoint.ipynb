{
 "cells": [
  {
   "cell_type": "code",
   "execution_count": 1,
   "id": "50c8dc53-646a-4718-b4ab-3876da9bc40d",
   "metadata": {},
   "outputs": [],
   "source": [
    "%load_ext autoreload\n",
    "%autoreload 2"
   ]
  },
  {
   "cell_type": "code",
   "execution_count": 2,
   "id": "54a4b447-91eb-43d2-ae2b-71a4874c881a",
   "metadata": {},
   "outputs": [],
   "source": [
    "import numpy as np\n",
    "import matplotlib.pyplot as plt\n",
    "from mpl_toolkits.mplot3d import Axes3D\n",
    "import squidpy as sq\n",
    "import anndata as ad\n",
    "import seaborn as sns\n",
    "import networkx as nx\n",
    "import pandas as pd\n",
    "\n",
    "import sys\n",
    "sys.path.append(\"../src/\")\n",
    "sys.path.append(\"/data/bionets/je30bery/truncated_graphs/src/\")\n",
    "from truncated_graphs import *"
   ]
  },
  {
   "cell_type": "markdown",
   "id": "3beca933-3621-4cd7-80e1-4a27e50f6391",
   "metadata": {},
   "source": [
    "- create random spatial data\n",
    "- connect nearest neighbors\n",
    "- compute centrality scores\n",
    "- for variable r, truncate graph by border r and compute centralities for everything inside, taking only nodes insight the new \"window\" into account\n",
    "- calculate error of new and old centralities\n",
    "- scatter"
   ]
  },
  {
   "cell_type": "code",
   "execution_count": 3,
   "id": "85351c79-b882-458b-9f2a-b85b6e777706",
   "metadata": {},
   "outputs": [],
   "source": [
    "#visualize_centrality(adata_original, centrality_original['degree'], title=\"Degree Centrality (Original)\")\n",
    "#visualize_centrality(adata_truncated, centrality_truncated['degree'], title=\"Degree Centrality (Truncated)\")"
   ]
  },
  {
   "cell_type": "code",
   "execution_count": 10,
   "id": "92d6d91a-0d3e-40f3-830f-3ec8f557be86",
   "metadata": {},
   "outputs": [
    {
     "ename": "KeyError",
     "evalue": "'betweeness'",
     "output_type": "error",
     "traceback": [
      "\u001b[0;31m---------------------------------------------------------------------------\u001b[0m",
      "\u001b[0;31mKeyError\u001b[0m                                  Traceback (most recent call last)",
      "Cell \u001b[0;32mIn[10], line 11\u001b[0m\n\u001b[1;32m      9\u001b[0m adata_truncated \u001b[38;5;241m=\u001b[39m filter_border_nodes(adata_original, border\u001b[38;5;241m=\u001b[39mborder)\n\u001b[1;32m     10\u001b[0m centrality_truncated \u001b[38;5;241m=\u001b[39m compute_centrality_measures(adata_truncated)\n\u001b[0;32m---> 11\u001b[0m node_errors \u001b[38;5;241m=\u001b[39m \u001b[43mcompute_node_errors_and_distances\u001b[49m\u001b[43m(\u001b[49m\u001b[43mcentrality_original\u001b[49m\u001b[43m,\u001b[49m\u001b[43m \u001b[49m\u001b[43mcentrality_truncated\u001b[49m\u001b[43m,\u001b[49m\u001b[43m \u001b[49m\u001b[43madata_original\u001b[49m\u001b[43m,\u001b[49m\u001b[43m \u001b[49m\u001b[43madata_truncated\u001b[49m\u001b[43m,\u001b[49m\u001b[43m \u001b[49m\u001b[43mmeasure\u001b[49m\u001b[38;5;241;43m=\u001b[39;49m\u001b[38;5;124;43m\"\u001b[39;49m\u001b[38;5;124;43mbetweeness\u001b[39;49m\u001b[38;5;124;43m\"\u001b[39;49m\u001b[43m)\u001b[49m\n\u001b[1;32m     12\u001b[0m node_errors_df \u001b[38;5;241m=\u001b[39m pd\u001b[38;5;241m.\u001b[39mDataFrame(node_errors, columns\u001b[38;5;241m=\u001b[39m[\u001b[38;5;124m'\u001b[39m\u001b[38;5;124mNode Index\u001b[39m\u001b[38;5;124m'\u001b[39m, \u001b[38;5;124m'\u001b[39m\u001b[38;5;124mError\u001b[39m\u001b[38;5;124m'\u001b[39m, \u001b[38;5;124m'\u001b[39m\u001b[38;5;124mDistance to Closest Border\u001b[39m\u001b[38;5;124m'\u001b[39m])\n\u001b[1;32m     13\u001b[0m error_dfs[border] \u001b[38;5;241m=\u001b[39m node_errors_df\n",
      "File \u001b[0;32m/data/bionets/je30bery/truncated_graphs/src/truncated_graphs.py:145\u001b[0m, in \u001b[0;36mcompute_node_errors_and_distances\u001b[0;34m(original_measures, truncated_measures, adata_original, adata_truncated, measure, bounds)\u001b[0m\n\u001b[1;32m    142\u001b[0m node_errors \u001b[38;5;241m=\u001b[39m []\n\u001b[1;32m    144\u001b[0m \u001b[38;5;66;03m# Iterate through original nodes and calculate errors for common nodes\u001b[39;00m\n\u001b[0;32m--> 145\u001b[0m \u001b[38;5;28;01mfor\u001b[39;00m i \u001b[38;5;129;01min\u001b[39;00m \u001b[38;5;28mrange\u001b[39m(\u001b[38;5;28mlen\u001b[39m(\u001b[43moriginal_measures\u001b[49m\u001b[43m[\u001b[49m\u001b[43mmeasure\u001b[49m\u001b[43m]\u001b[49m)):\n\u001b[1;32m    146\u001b[0m     \u001b[38;5;28;01mif\u001b[39;00m i \u001b[38;5;241m<\u001b[39m \u001b[38;5;28mlen\u001b[39m(truncated_coords):  \u001b[38;5;66;03m# Check if the node is in truncated data\u001b[39;00m\n\u001b[1;32m    147\u001b[0m         error \u001b[38;5;241m=\u001b[39m \u001b[38;5;28mabs\u001b[39m(original_measures[measure][i] \u001b[38;5;241m-\u001b[39m truncated_measures[measure]\u001b[38;5;241m.\u001b[39mget(i, \u001b[38;5;241m0\u001b[39m))\n",
      "\u001b[0;31mKeyError\u001b[0m: 'betweeness'"
     ]
    }
   ],
   "source": [
    "n = 1000\n",
    "coordinates = generate_coordinates(n=1000, bounds=(0, 20))\n",
    "adata_original = create_anndata(coordinates)\n",
    "centrality_original = compute_centrality_measures(adata_original)\n",
    "borders = [1, 2, 3, 4, 5, 6, 7, 8, 9]\n",
    "\n",
    "error_dfs = dict()\n",
    "for border in borders:\n",
    "    adata_truncated = filter_border_nodes(adata_original, border=border)\n",
    "    centrality_truncated = compute_centrality_measures(adata_truncated)\n",
    "    node_errors = compute_node_errors_and_distances(centrality_original, centrality_truncated, adata_original, adata_truncated, measure=\"betweenness\")\n",
    "    node_errors_df = pd.DataFrame(node_errors, columns=['Node Index', 'Error', 'Distance to Closest Border'])\n",
    "    error_dfs[border] = node_errors_df"
   ]
  },
  {
   "cell_type": "code",
   "execution_count": null,
   "id": "5e862ce2-5789-45d8-a59a-2b396aee7803",
   "metadata": {
    "scrolled": true
   },
   "outputs": [],
   "source": [
    "concated_erros = pd.concat(error_dfs)"
   ]
  },
  {
   "cell_type": "code",
   "execution_count": null,
   "id": "cfeb8838-2632-45f9-824c-b07721beba9f",
   "metadata": {},
   "outputs": [],
   "source": [
    "scatter_data = prepare_3d_scatter_data(error_dfs)\n",
    "\n",
    "fig = plt.figure(figsize=(10, 7))\n",
    "ax = fig.add_subplot(111, projection='3d')\n",
    "\n",
    "pal = sns.color_palette(\"magma\", len(borders))[::-1]\n",
    "for i, border in enumerate(error_dfs.keys()):\n",
    "    ax.scatter(error_dfs[border]['Distance to Closest Border'], [border] * len(error_dfs[border]), error_dfs[border]['Error'], \n",
    "           c=pal[i], marker='o')\n",
    "\n",
    "ax.set_xlabel('Distance to Closest Border')\n",
    "ax.set_ylabel('Border Width')\n",
    "ax.set_zlabel('Error')\n",
    "ax.set_title('3D Scatter Plot of Errors vs Distance to Border and Border Width')\n",
    "\n",
    "plt.show()"
   ]
  },
  {
   "cell_type": "code",
   "execution_count": null,
   "id": "25cfb691-a9c7-466a-bdaa-5b70cc2f1310",
   "metadata": {},
   "outputs": [],
   "source": []
  }
 ],
 "metadata": {
  "kernelspec": {
   "display_name": "Python 3 (ipykernel)",
   "language": "python",
   "name": "python3"
  },
  "language_info": {
   "codemirror_mode": {
    "name": "ipython",
    "version": 3
   },
   "file_extension": ".py",
   "mimetype": "text/x-python",
   "name": "python",
   "nbconvert_exporter": "python",
   "pygments_lexer": "ipython3",
   "version": "3.9.18"
  }
 },
 "nbformat": 4,
 "nbformat_minor": 5
}
